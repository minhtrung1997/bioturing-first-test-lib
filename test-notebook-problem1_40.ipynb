{
 "cells": [
  {
   "cell_type": "markdown",
   "metadata": {},
   "source": [
    "# This notebook will execute the lib function on test-files/ from problem 1 to 21"
   ]
  },
  {
   "cell_type": "code",
   "execution_count": null,
   "metadata": {},
   "outputs": [],
   "source": [
    "## Problem 1\n",
    "from trung_bftl import problem_functions as prfs\n",
    "testfile = 'test-files/rosalind_dna.txt'\n",
    "with open(testfile, 'r') as f:\n",
    "    dna = f.readline().strip()\n",
    "    print(prfs.count_dna_base(dna))\n"
   ]
  },
  {
   "cell_type": "code",
   "execution_count": null,
   "metadata": {},
   "outputs": [],
   "source": [
    "## Problem 2\n",
    "from trung_bftl import problem_functions as prfs\n",
    "testfile = 'test-files/rosalind_rna.txt'\n",
    "with open(testfile, 'r') as f:\n",
    "    dna = f.readline().strip()\n",
    "    print(prfs.transcribe_dna_to_rna(dna))"
   ]
  },
  {
   "cell_type": "code",
   "execution_count": null,
   "metadata": {},
   "outputs": [],
   "source": [
    "#   Problem 3\n",
    "from trung_bftl import problem_functions as prfs\n",
    "testfile = 'test-files/rosalind_revc.txt'\n",
    "with open(testfile, 'r') as f:\n",
    "    dna = f.readline().strip()\n",
    "    print(prfs.reverse_complement(dna))"
   ]
  },
  {
   "cell_type": "code",
   "execution_count": null,
   "metadata": {},
   "outputs": [],
   "source": [
    "#  Problem 4\n",
    "from trung_bftl import problem_functions as prfs\n",
    "testfile = 'test-files/rosalind_fib.txt'\n",
    "with open(testfile, 'r') as f:\n",
    "    n, k = map(int, f.readline().strip().split())\n",
    "    print(prfs.fibonacci(n, k))"
   ]
  },
  {
   "cell_type": "code",
   "execution_count": null,
   "metadata": {},
   "outputs": [],
   "source": [
    "# Problem 5: Calculating Point Mutations\n",
    "from trung_bftl import problem_functions as prfs\n",
    "testfile = 'test-files/rosalind_hamm.txt'\n",
    "with open(testfile, 'r') as f:\n",
    "    dna1 = f.readline().strip()\n",
    "    dna2 = f.readline().strip()\n",
    "    print(prfs.hamming_distance(dna1, dna2))\n"
   ]
  },
  {
   "cell_type": "code",
   "execution_count": null,
   "metadata": {},
   "outputs": [],
   "source": [
    "# Problem 6: Mendel's First Law\n",
    "from trung_bftl import problem_functions as prfs\n",
    "testfile = 'test-files/rosalind_iprb.txt'\n",
    "with open(testfile, 'r') as f:\n",
    "    k, m, n = map(int, f.readline().strip().split())\n",
    "    print(prfs.mendel_first_law(k, m, n))"
   ]
  },
  {
   "cell_type": "code",
   "execution_count": null,
   "metadata": {},
   "outputs": [],
   "source": [
    "# Problem 7: Translating RNA into Protein\n",
    "from trung_bftl import problem_functions as prfs\n",
    "testfile = 'test-files/rosalind_prot.txt'\n",
    "with open(testfile, 'r') as f:\n",
    "    rna = f.readline().strip()\n",
    "    print(prfs.rnaTranslate(rna))"
   ]
  },
  {
   "cell_type": "code",
   "execution_count": null,
   "metadata": {},
   "outputs": [],
   "source": [
    "# Problem 8: Finding a Motif in DNA\n",
    "from trung_bftl import problem_functions as prfs\n",
    "testfile = 'test-files/rosalind_subs.txt'\n",
    "with open(testfile, 'r') as f:\n",
    "    dna = f.readline().strip()\n",
    "    motif = f.readline().strip()\n",
    "    print(prfs.find_motif(dna, motif))"
   ]
  },
  {
   "cell_type": "code",
   "execution_count": null,
   "metadata": {},
   "outputs": [],
   "source": [
    "# Problem 9: Consensus and Profile\n",
    "## Remember to load the BioPython module to read the FASTA file\n",
    "from trung_bftl import problem_functions as prfs\n",
    "from Bio import SeqIO\n",
    "testfile = 'test-files/rosalind_cons.txt'\n",
    "with open(testfile, 'r') as f:\n",
    "    records = SeqIO.parse(f, 'fasta')\n",
    "    # make all the records into a list of sequences\n",
    "    records_seq_list = [str(record.seq) for record in records]\n",
    "    print(prfs.consensus_profile(records_seq_list)[0])\n",
    "    print(prfs.consensus_profile(records_seq_list)[2])"
   ]
  },
  {
   "cell_type": "code",
   "execution_count": null,
   "metadata": {},
   "outputs": [],
   "source": [
    "# Problem 10: Mortal Fibonacci Rabbits\n",
    "from trung_bftl import problem_functions as prfs\n",
    "testfile = 'test-files/rosalind_fibd.txt'\n",
    "with open(testfile, 'r') as f:\n",
    "    n, m = map(int, f.readline().strip().split())\n",
    "    print(prfs.mortal_fibonacci(n, m))"
   ]
  },
  {
   "cell_type": "code",
   "execution_count": null,
   "metadata": {},
   "outputs": [],
   "source": [
    "# Problem 11: Computing GC Content\n",
    "from trung_bftl import problem_functions as prfs\n",
    "from Bio import SeqIO\n",
    "\n",
    "testfile = 'test-files/rosalind_gc.txt'\n",
    "id_gc_dict = {}\n",
    "with open(testfile, 'r') as f:\n",
    "    records = SeqIO.parse(f, 'fasta')\n",
    "    for record in records:\n",
    "        gc_content = prfs.gc_content(record.seq)\n",
    "        id_gc_dict[record.id] = gc_content\n",
    "max_gc_id = max(id_gc_dict, key=id_gc_dict.get)\n",
    "print(f'{max_gc_id}\\n{id_gc_dict[max_gc_id]}')\n",
    "        "
   ]
  },
  {
   "cell_type": "code",
   "execution_count": null,
   "metadata": {},
   "outputs": [],
   "source": [
    "# Problem 12: Calculating Expected Offspring\n",
    "from trung_bftl import problem_functions as prfs\n",
    "testfile = 'test-files/rosalind_iev.txt'\n",
    "with open(testfile, 'r') as f:\n",
    "    offspring = list(map(int, f.readline().strip().split()))\n",
    "    print(prfs.expected_offspring(offspring))"
   ]
  },
  {
   "cell_type": "code",
   "execution_count": null,
   "metadata": {},
   "outputs": [],
   "source": [
    "# Problem 13: Finding a Shared Motif\n",
    "from trung_bftl import problem_functions as prfs\n",
    "from Bio import SeqIO\n",
    "\n",
    "testfile = 'test-files/rosalind_lcsm.txt'\n",
    "with open(testfile, 'r') as f:\n",
    "    records = SeqIO.parse(f, 'fasta')\n",
    "    records_seq_list = [str(record.seq) for record in records]\n",
    "    print(prfs.find_shared_motif(records_seq_list))\n"
   ]
  },
  {
   "cell_type": "code",
   "execution_count": null,
   "metadata": {},
   "outputs": [],
   "source": [
    "# Problem 14: Independent Alleles\n",
    "from trung_bftl import problem_functions as prfs\n",
    "testfile = 'test-files/rosalind_lia.txt'\n",
    "with open(testfile, 'r') as f:\n",
    "    k, n = map(int, f.readline().strip().split())\n",
    "    print(prfs.independent_alleles(k, n))"
   ]
  },
  {
   "cell_type": "code",
   "execution_count": null,
   "metadata": {},
   "outputs": [],
   "source": [
    "# Problem 15: Finding a Protein Motif\n",
    "from trung_bftl import problem_functions as prfs\n",
    "import requests\n",
    "\n",
    "testfile = 'test-files/rosalind_mprt.txt'\n",
    "with open(testfile, 'r') as f:\n",
    "    protein_ids = f.readlines()\n",
    "    protein_ids = [id.strip() for id in protein_ids]\n",
    "    for protein_id in protein_ids:\n",
    "        corrected_protein_id = protein_id.split('_')[0]\n",
    "        url = f'https://www.uniprot.org/uniprot/{corrected_protein_id}.fasta'\n",
    "       # if url returns 404, print out an warning message and continue to the next protein\n",
    "        try:\n",
    "            response = requests.get(url)\n",
    "            response.raise_for_status()\n",
    "        except requests.exceptions.HTTPError as e:\n",
    "            print(f'Protein {protein_id} not found')\n",
    "            continue\n",
    "        fasta = response.text\n",
    "        protein_seq = fasta.split('\\n', 1)[1].replace('\\n', '')\n",
    "        motif_positions = prfs.find_protein_motif(protein_seq)\n",
    "        if motif_positions:\n",
    "            print(protein_id)\n",
    "            print(' '.join(map(str, motif_positions)))\n",
    "## Warning, some old ID of Uniprot has been merged (such as P01046 has been merged into P01044).\n",
    "## But automatically been redirected, so the script still works."
   ]
  },
  {
   "cell_type": "code",
   "execution_count": null,
   "metadata": {},
   "outputs": [],
   "source": [
    "# Problem 16: Inferring mRNA from Protein\n",
    "from trung_bftl import problem_functions as prfs\n",
    "testfile = 'test-files/rosalind_mrna.txt'\n",
    "with open(testfile, 'r') as f:\n",
    "    protein = f.readline().strip()\n",
    "    print(prfs.mrna_from_protein(protein))"
   ]
  },
  {
   "cell_type": "code",
   "execution_count": null,
   "metadata": {},
   "outputs": [],
   "source": [
    "# Problem 17 - ORF Open Reading Frames\n",
    "from trung_bftl import problem_functions as prfs\n",
    "from Bio import SeqIO\n",
    "testfile = 'test-files/rosalind_orf.txt'\n",
    "with open(testfile, 'r') as f:\n",
    "    records = SeqIO.parse(f, 'fasta')\n",
    "    for record in records:\n",
    "        _ , proteins = prfs.find_orfs(record.seq)\n",
    "        for protein in proteins:\n",
    "            print(protein)\n",
    "    \n"
   ]
  },
  {
   "cell_type": "code",
   "execution_count": null,
   "metadata": {},
   "outputs": [],
   "source": [
    "# Problem 18: Enumerating Gene Orders\n",
    "from trung_bftl import problem_functions as prfs\n",
    "testfile = 'test-files/rosalind_perm.txt'\n",
    "with open(testfile, 'r') as f:\n",
    "    n = int(f.readline().strip())\n",
    "    permutations = prfs.enumerate_gene_orders(n)\n",
    "    print(len(permutations))\n",
    "    for perm in permutations:\n",
    "        print(' '.join(map(str, perm)))"
   ]
  },
  {
   "cell_type": "code",
   "execution_count": null,
   "metadata": {},
   "outputs": [],
   "source": [
    "# Problem 19: Calculating Protein Mass\n",
    "from trung_bftl import problem_functions as prfs\n",
    "testfile = 'test-files/rosalind_prtm.txt'\n",
    "with open(testfile, 'r') as f:\n",
    "    protein = f.readline().strip()\n",
    "    print(prfs.protein_mass(protein))"
   ]
  },
  {
   "cell_type": "code",
   "execution_count": null,
   "metadata": {},
   "outputs": [],
   "source": [
    "# Problem 20: Find restriction sites\n",
    "from trung_bftl import problem_functions as prfs\n",
    "from Bio import SeqIO\n",
    "testfile = 'test-files/rosalind_revp.txt'\n",
    "with open(testfile, 'r') as f:\n",
    "    records = SeqIO.parse(f, 'fasta')\n",
    "    for record in records:\n",
    "        _ , printed_palindromes = prfs.find_restriction_sites(record.seq)\n",
    "    print(printed_palindromes)"
   ]
  },
  {
   "cell_type": "code",
   "execution_count": null,
   "metadata": {},
   "outputs": [],
   "source": [
    "# Problem 21: RNA Splicing\n",
    "from trung_bftl import problem_functions as prfs\n",
    "from Bio import SeqIO\n",
    "testfile = 'test-files/rosalind_splc.txt'\n",
    "with open(testfile, 'r') as f:\n",
    "    records = SeqIO.parse(f, 'fasta')\n",
    "    sequences = [record.seq for record in records]\n",
    "    # The longest sequence is the main sequence, others are introns\n",
    "    main_sequence = max(sequences, key=len)\n",
    "    introns = [seq for seq in sequences if seq != main_sequence]\n",
    "    spliced_sequence = prfs.rna_splicing(main_sequence, introns)\n",
    "    print(prfs.rnaTranslate(spliced_sequence))"
   ]
  },
  {
   "cell_type": "code",
   "execution_count": null,
   "metadata": {},
   "outputs": [],
   "source": [
    "# Problem 22: Introduction to Random Strings\n",
    "from trung_bftl import problem_functions as prfs\n",
    "testfile = 'test-files/rosalind_prob.txt'\n",
    "with open(testfile, 'r') as f:\n",
    "    dna = f.readline().strip()\n",
    "    print(dna)\n",
    "    gc_contents = list(map(float, f.readline().strip().split()))\n",
    "    print(gc_contents)\n",
    "    results = []\n",
    "    for gc_content in gc_contents:\n",
    "        results.append(prfs.random_string_probability(dna, gc_content))\n",
    "    print(' '.join(map(str, results)))"
   ]
  },
  {
   "cell_type": "code",
   "execution_count": null,
   "metadata": {},
   "outputs": [],
   "source": [
    "# Problem 23 - Overlap Graphs\n",
    "from trung_bftl import problem_functions as prfs\n",
    "from Bio import SeqIO\n",
    "testfile = 'test-files/rosalind_grph.txt'\n",
    "with open(testfile, 'r') as f:\n",
    "    records = SeqIO.parse(f, 'fasta')\n",
    "    sequences = {record.id: str(record.seq) for record in records}\n",
    "    for seq_id, seq in sequences.items():\n",
    "        for other_seq_id, other_seq in sequences.items():\n",
    "            if seq_id != other_seq_id:\n",
    "                if prfs.is_overlap_graphs(seq, other_seq, n=3):\n",
    "                    print(f'{seq_id} {other_seq_id}')"
   ]
  },
  {
   "cell_type": "code",
   "execution_count": null,
   "metadata": {},
   "outputs": [],
   "source": [
    "# Problem 24: Enumerating k-mers Lexicographically\n",
    "from trung_bftl import problem_functions as prfs\n",
    "testfile = 'test-files/rosalind_lexf.txt'\n",
    "with open(testfile, 'r') as f:\n",
    "    alphabet = f.readline().strip().split()\n",
    "    n = int(f.readline().strip())\n",
    "    for item in prfs.enumerate_kmers_lexicographically(alphabet, n):\n",
    "        print(item)"
   ]
  },
  {
   "cell_type": "code",
   "execution_count": null,
   "metadata": {},
   "outputs": [],
   "source": [
    "# Problem 25: Longest Increasing Subsequence\n",
    "from trung_bftl import problem_functions as prfs\n",
    "testfile = 'test-files/rosalind_lgis.txt'\n",
    "with open(testfile, 'r') as f:\n",
    "    n = int(f.readline().strip()) # number of elements in the permutation\n",
    "    permutation = list(map(int, f.readline().strip().split())) # the permutation\n",
    "    lgis = ' '.join(map(str, prfs.longest_increasing_subsequence(permutation)))\n",
    "    print(lgis)\n",
    "    lgds = ' '.join(map(str, prfs.longest_decreasing_subsequence(permutation)))\n",
    "    print(lgds)\n"
   ]
  },
  {
   "cell_type": "code",
   "execution_count": null,
   "metadata": {},
   "outputs": [],
   "source": [
    "# Problem 26: Genome Assembly as Shortest Superstring\n",
    "from trung_bftl import problem_functions as prfs\n",
    "from Bio import SeqIO\n",
    "testfile = 'test-files/rosalind_long.txt'\n",
    "with open(testfile, 'r') as f:\n",
    "    records = SeqIO.parse(f, 'fasta')\n",
    "    sequences = [str(record.seq) for record in records]\n",
    "    print(prfs.shortest_superstring(sequences))"
   ]
  },
  {
   "cell_type": "code",
   "execution_count": null,
   "metadata": {},
   "outputs": [],
   "source": [
    "# Problem 27: Perfect Matchings and RNA Secondary Structures *\n",
    "from trung_bftl import problem_functions as prfs\n",
    "from Bio import SeqIO\n",
    "testfile = 'test-files/rosalind_pmch.txt'\n",
    "with open(testfile, 'r') as f:\n",
    "    records = SeqIO.parse(f, 'fasta')\n",
    "    for record in records:\n",
    "        rna = str(record.seq)\n",
    "        print(prfs.perfect_matchings(rna))\n"
   ]
  },
  {
   "cell_type": "code",
   "execution_count": null,
   "metadata": {},
   "outputs": [],
   "source": [
    "# Problem 28: Partial Permutations\n",
    "from trung_bftl import problem_functions as prfs\n",
    "testfile = 'test-files/rosalind_pper.txt'\n",
    "with open(testfile, 'r') as f:\n",
    "    n, k = map(int, f.readline().strip().split())\n",
    "    print(prfs.partial_permutations(n, k))"
   ]
  },
  {
   "cell_type": "code",
   "execution_count": null,
   "metadata": {},
   "outputs": [],
   "source": [
    "# Problem 29: Enumerating Oriented Gene Orderings\n",
    "from trung_bftl import problem_functions as prfs\n",
    "testfile = 'test-files/rosalind_sign.txt'\n",
    "with open(testfile, 'r') as f:\n",
    "    n = int(f.readline().strip())\n",
    "    signed_permutations = prfs.enumerate_oriented_gene_orderings(n)\n",
    "    print(len(signed_permutations))\n",
    "    for signed_perm in signed_permutations:\n",
    "        print(''.join(map(str, signed_perm)).replace('+', ''))"
   ]
  },
  {
   "cell_type": "code",
   "execution_count": null,
   "metadata": {},
   "outputs": [],
   "source": [
    "# Problem 30: Finding a Spliced Motif\n",
    "from trung_bftl import problem_functions as prfs\n",
    "from Bio import SeqIO\n",
    "testfile = 'test-files/rosalind_sseq.txt'\n",
    "with open(testfile, 'r') as f:\n",
    "    records = SeqIO.parse(f, 'fasta')\n",
    "    sequences = [str(record.seq) for record in records]\n",
    "    sseq = prfs.find_spliced_motif(sequences[0], sequences[1])\n",
    "    print(' '.join(map(str, sseq)))"
   ]
  },
  {
   "cell_type": "code",
   "execution_count": null,
   "metadata": {},
   "outputs": [],
   "source": [
    "# Problem 31: Transitions and Transversions\n",
    "from trung_bftl import problem_functions as prfs\n",
    "from Bio import SeqIO\n",
    "testfile = 'test-files/rosalind_tran.txt'\n",
    "with open(testfile, 'r') as f:\n",
    "    records = SeqIO.parse(f, 'fasta')\n",
    "    sequences = [str(record.seq) for record in records]\n",
    "    print(prfs.transitions_transversions(sequences[0], sequences[1]))"
   ]
  },
  {
   "cell_type": "code",
   "execution_count": null,
   "metadata": {},
   "outputs": [],
   "source": [
    "# Problem 32: Completing a Tree\n",
    "from trung_bftl import problem_functions as prfs\n",
    "testfile = 'test-files/rosalind_tree.txt'\n",
    "with open(testfile, 'r') as f:\n",
    "    n = int(f.readline().strip())\n",
    "    edges = [tuple(map(int, line.strip().split())) for line in f.readlines()]   \n",
    "    print(f'number of nodes: {n}')\n",
    "    print(f'edges: {edges}')\n",
    "    print(f'number of edges: {len(edges)}')\n",
    "    print(prfs.completing_tree(n, edges))"
   ]
  },
  {
   "cell_type": "code",
   "execution_count": null,
   "metadata": {},
   "outputs": [],
   "source": [
    "# Problem 33 - Catalan Numbers and RNA Secondary Structures\n",
    "from trung_bftl import problem_functions as prfs\n",
    "from Bio import SeqIO\n",
    "testfile = 'test-files/rosalind_cat.txt'\n",
    "with open(testfile, 'r') as f:\n",
    "    sequence = str(SeqIO.read(f, 'fasta').seq)\n",
    "    nodes = len(sequence)\n",
    "    print(int(prfs.get_catalan_numbers(sequence, nodes)) % 1000000)"
   ]
  },
  {
   "cell_type": "code",
   "execution_count": null,
   "metadata": {},
   "outputs": [],
   "source": [
    "# Problem 34: Error Correction in Reads\n",
    "from trung_bftl import problem_functions as prfs\n",
    "from Bio import SeqIO\n",
    "testfile = 'test-files/rosalind_corr.txt'\n",
    "with open(testfile, 'r') as f:\n",
    "    records = SeqIO.parse(f, 'fasta')\n",
    "    sequences_dict = {record.id: str(record.seq) for record in records}\n",
    "    sequences = list(sequences_dict.values())\n",
    "    results = prfs.error_correct(sequences)\n",
    "    for result in results:\n",
    "        print(f'{result[0]}->{result[1]}')"
   ]
  },
  {
   "cell_type": "code",
   "execution_count": null,
   "metadata": {},
   "outputs": [],
   "source": [
    "# Problem 35: Counting Phylogenetic Ancestors\n",
    "from trung_bftl import problem_functions as prfs\n",
    "testfile = 'test-files/rosalind_inod.txt'\n",
    "with open(testfile, 'r') as f:\n",
    "    n = int(f.readline().strip())\n",
    "    print(prfs.count_phylogenetic_ancestors(n))"
   ]
  },
  {
   "cell_type": "code",
   "execution_count": null,
   "metadata": {},
   "outputs": [],
   "source": [
    "# Problem 36: k-Mer Composition\n",
    "from trung_bftl import problem_functions as prfs\n",
    "from Bio import SeqIO\n",
    "testfile = 'test-files/rosalind_kmer.txt'\n",
    "with open(testfile, 'r') as f:\n",
    "    sequence = str(SeqIO.read(f, 'fasta').seq)\n",
    "    kmer_composition = prfs.kmer_composition(sequence, 4)\n",
    "    # Convert the dictionary to a list of values\n",
    "    kmer_composition_list = [kmer_composition[k] for k in sorted(kmer_composition.keys())]\n",
    "    print(' '.join(map(str, kmer_composition_list)))\n",
    "    \n"
   ]
  },
  {
   "cell_type": "code",
   "execution_count": null,
   "metadata": {},
   "outputs": [],
   "source": [
    "# Problem 37: Speeding Up Motif Finding\n",
    "from trung_bftl import problem_functions as prfs\n",
    "from Bio import SeqIO\n",
    "testfile = 'test-files/rosalind_kmp.txt'\n",
    "with open(testfile, 'r') as f:\n",
    "    records = SeqIO.parse(f, 'fasta')\n",
    "    sequences = [str(record.seq) for record in records]\n",
    "    print(' '.join(map(str, prfs.get_failure_array(sequences[0]))))"
   ]
  },
  {
   "cell_type": "code",
   "execution_count": null,
   "metadata": {},
   "outputs": [],
   "source": [
    "# Problem 38: Finding a Shared Spliced Motif\n",
    "from trung_bftl import problem_functions as prfs\n",
    "from Bio import SeqIO\n",
    "testfile = 'test-files/rosalind_lcsq.txt'\n",
    "with open(testfile, 'r') as f:\n",
    "    records = SeqIO.parse(f, 'fasta')\n",
    "    sequences = [str(record.seq) for record in records]\n",
    "    print(prfs.find_shared_spliced_motif(sequences))"
   ]
  },
  {
   "cell_type": "code",
   "execution_count": null,
   "metadata": {},
   "outputs": [],
   "source": [
    "# Problem 39: Ordering Strings of Varying Length Lexicographically\n",
    "from trung_bftl import problem_functions as prfs\n",
    "testfile = 'test-files/rosalind_lexv.txt'\n",
    "with open(testfile, 'r') as f:\n",
    "    # First line is the alphabets\n",
    "    alphabet = f.readline().strip().split()\n",
    "    # Second line is the length of the strings\n",
    "    n = int(f.readline().strip())\n",
    "    string = prfs.order_strings_lexicographically(alphabet, n)\n",
    "    print('\\n'.join(string))\n",
    "\n"
   ]
  },
  {
   "cell_type": "code",
   "execution_count": null,
   "metadata": {},
   "outputs": [],
   "source": [
    "# Problem 40: Maximum Matchings and RNA Secondary Structures\n",
    "from trung_bftl import problem_functions as prfs\n",
    "from Bio import SeqIO\n",
    "testfile = 'test-files/rosalind_mmch.txt'\n",
    "with open(testfile, 'r') as f:\n",
    "    sequence = str(SeqIO.read(f, 'fasta').seq)\n",
    "    print(prfs.maximum_matchings(sequence))"
   ]
  }
 ],
 "metadata": {
  "language_info": {
   "name": "python"
  }
 },
 "nbformat": 4,
 "nbformat_minor": 2
}
