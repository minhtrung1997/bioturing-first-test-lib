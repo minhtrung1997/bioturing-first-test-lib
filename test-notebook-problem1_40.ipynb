{
 "cells": [
  {
   "cell_type": "markdown",
   "metadata": {},
   "source": [
    "# This notebook will execute the lib function on test-files/ from problem 1 to 21"
   ]
  },
  {
   "cell_type": "code",
   "execution_count": null,
   "metadata": {},
   "outputs": [],
   "source": [
    "## Problem 1\n",
    "from trung_bftl import problem_functions as prfs\n",
    "testfile = 'test-files/rosalind_dna.txt'\n",
    "with open(testfile, 'r') as f:\n",
    "    dna = f.readline().strip()\n",
    "    print(prfs.count_dna_base(dna))\n"
   ]
  },
  {
   "cell_type": "code",
   "execution_count": null,
   "metadata": {},
   "outputs": [],
   "source": [
    "## Problem 2\n",
    "from trung_bftl import problem_functions as prfs\n",
    "testfile = 'test-files/rosalind_rna.txt'\n",
    "with open(testfile, 'r') as f:\n",
    "    dna = f.readline().strip()\n",
    "    print(prfs.transcribe_dna_to_rna(dna))"
   ]
  },
  {
   "cell_type": "code",
   "execution_count": null,
   "metadata": {},
   "outputs": [],
   "source": [
    "#   Problem 3\n",
    "from trung_bftl import problem_functions as prfs\n",
    "testfile = 'test-files/rosalind_revc.txt'\n",
    "with open(testfile, 'r') as f:\n",
    "    dna = f.readline().strip()\n",
    "    print(prfs.reverse_complement(dna))"
   ]
  },
  {
   "cell_type": "code",
   "execution_count": null,
   "metadata": {},
   "outputs": [],
   "source": [
    "#  Problem 4\n",
    "from trung_bftl import problem_functions as prfs\n",
    "testfile = 'test-files/rosalind_fib.txt'\n",
    "with open(testfile, 'r') as f:\n",
    "    n, k = map(int, f.readline().strip().split())\n",
    "    print(prfs.fibonacci(n, k))"
   ]
  },
  {
   "cell_type": "code",
   "execution_count": null,
   "metadata": {},
   "outputs": [],
   "source": [
    "# Problem 5: Calculating Point Mutations\n",
    "from trung_bftl import problem_functions as prfs\n",
    "testfile = 'test-files/rosalind_hamm.txt'\n",
    "with open(testfile, 'r') as f:\n",
    "    dna1 = f.readline().strip()\n",
    "    dna2 = f.readline().strip()\n",
    "    print(prfs.hamming_distance(dna1, dna2))\n"
   ]
  },
  {
   "cell_type": "code",
   "execution_count": 2,
   "metadata": {},
   "outputs": [
    {
     "name": "stdout",
     "output_type": "stream",
     "text": [
      "0.7455\n"
     ]
    }
   ],
   "source": [
    "# Problem 6: Mendel's First Law\n",
    "from trung_bftl import problem_functions as prfs\n",
    "testfile = 'test-files/rosalind_iprb.txt'\n",
    "with open(testfile, 'r') as f:\n",
    "    k, m, n = map(int, f.readline().strip().split())\n",
    "    print(prfs.mendel_first_law(k, m, n))"
   ]
  },
  {
   "cell_type": "code",
   "execution_count": 2,
   "metadata": {},
   "outputs": [
    {
     "name": "stdout",
     "output_type": "stream",
     "text": [
      "MRGEFYRLRIIKRWNEPQANVYDPYALTSGWSSLYNCRSMISVDRDCWAFCYVRNLLHLQITRRQGNPNPIWIIPSCRYQVLRVSVVRGQLIALSSPGNRRRSRRASWDHRTCLALHSSEFRSRERGSQLSQHNPDGFQGPILHAQLSGQYGILSKWGRLWAGVWKLSSVWSRVRVPPDVQGIVADDILLGVRLPLYSRATSLRGNLNSALTCYRCTDSVVPVVLDQTLGYTGMRSLQMGRVERPLLAALTVGLLSSGASVARSCNASLKVIELSLPRALTFAVPFLQYSSNKKSSPSITRSQHPRSPRGYINSITRGRHISHLTRRYILGSLARTDTASTQIQQWHHWSSDAHRLHTDDSNRPCPGLKNDKAKSGYCASIAKSTVESISIRARPWDRTIEAALTNSILSGRYHGVRNRLLSNGMNKKRLCGRMDPSYSYTGEQSHVALIRILYAAPMSDPTQHDGRARENILPLAARSVWRSVAYGPYPKMIPAVLHGKALARRVPLLSPLTRGHSGRSPFVEYVVINYTYGNRCRRYTSRFLGVTVVDRVSWTLTFPMGSAVNVTPIVIQETRLSNRLSEVLCRSILLFSDRFVGNIALSTAYAPCKLGGQLLCTTVAKIVPFVYRLWMRVSGLFNFNSTINSILLLLDCNTAPISDPPRYSGVFSHNDCRRVYCSLKPYAYISRFPVETNFRVTVWSMHRNQSRAREVQGAGLRAPFMEKCSAVGQLNDGRHVEWMISMAYCTAVLLGSRNESARKPCHRPENSGCLDITSRVSSRTRDPNQVNLGCKKRPKPFWNYYHGMLHMSSSGLTPTAYPNTYTVLDRCEVLKWVRVGPRRDYWRSYRFVIRLISPSPSHALKNWCKSIPARSALRYTETPAFSEELVQNPQCKGQSVYKVTSVSQAPHTFWIRDRPELRCGLAIVPVMINRFSMNTRNFSKTVRRFVSSDLTAYRIMNQTRDTSPLTYSHDERAPTSTLGSIEEVNMPSRTLFSRAYQKPVSIRHIFGDIAFSRQDILCSPPVGLPQHRVSVRPERSALIARQSRFAAGTAEFTLLARRSLTDFNDLARLNRFAMLLDESKGPEMPTWPAARTVPCDYKPVREDPRTVSMSSEALRPRGDEDAKSGELQTTCRPGSATRERQGLLHDRRLSVSGIFRMRRCNDHRRINFIRLIGCSNLNTELKPVTYSVVVPVWAISAGSRKSIQSKCLIHRISRTLSSWRAKGSPEISFMSPQRFVARVSKSVVRILLLIHSRRIFVGSTPALNSLVTSSLFESFSSMLSWHDLKTYELHQAWLGSPALSQTRGPEVWYGKKRDPQHTPAFFCVSSILLLLDKDTRHRSYCAVSLYLRYLLNFVSHIRDKMQSPAFDVFLILGTSRLCVPAISLIYLLTTRGGERPFRRLWFWAVHATRVEPAYRHRTNWHFPIVYDAPRAPRLAAASPGYQRLLTGSVITTRSARVQPELATAQLSYIRFSVRIKLLRAWFEGAMSTNVCISRLSHSCSHVDSSRPLRRCIPSQLENCVNCVVAMPSVAFPDNTRKVKSTVNKALQYSMSEQFLLALSGSEVRPRRGNKGRGRLIFLARYCALIIRLRGSHNTNSVAKLRNACQESRRTRTQAATLTLQTGCARGCGLIPCSAATSGNKRTQVDRYMNVFGSPDNSYWRGRTRSTLYSARSLLSSYLILVFLGSTSLPSCGVDGNQRCQLRPLRAFFARHIFSTDPRRLAHVAEDHMIPQAFPCGDALLQCLCWYASTFAICGRRDTLAACSLGPLESFRRCMGRSEPHTLIFHDFGYATGLVPHYIVYVDSASSAIDEISITSSHGLNRLGTEARIRVLRISLICLGLLLCERLTAHDSMPATISTSVPDSTMACEPWYPARDFLCHIEHWPAELTILRWCYKWNLSLPHPVPTSLRQSTFPLSSHSGNRPSLILKRFIPTDQGTVFPELTMLSTGLAIVDCVRLNRLELNSKSEGIATLSNQRRVSYLSCDFVFRVLEAWLRFLNGSRHGSSIRDILQHLGSSGPKSPHLTLILEAFIKSTTACLSDVNSPCNHLGSDRLGFRSAGAPHGGTHLMNVVSPMHQPPSASTVVEPRAEGVGAPHAMSSPVSNIRQGCPRERSTSIFKMVPPGFGLYVNLLIVLWNPHALHRLMCVKEHSGGNAKLRSTRGCHHTLNLHTHSSTRLHFQGRKKSVTLTWDRPRYQLKVDSRYCRPFENRLRPSPEKVYHPPSLDTCIAVVNAELPAITCGPALTRSKILPLLCLEHTCSSRSPSDSRGFSHGSNLTRRDPASSFRQIPEEIPANALYYTGERSNDPYISAGHNTAYIHSVAALLQWDMYNELTRHPGQRTARLLHSPNSLWTLTMRHPDCIIGHTKITYLRWHHMLLHSYSNISAIPVKYIPVEANFVQLTQDQSHSNRGSRSFLAGKRQCCCYGLKSHVAKSAEINQLGPIHVFPPTAARPTKLQGFGDAREVGYLPRRYTLFGNGCSPGYYLDTRTKFQGRSRTRDSPDLNLRNTDTTGDRESDGPYRPSNKNIRYSLRNVLGLPHMATIRNPVPGDGLAHPMVATCQDARHGPPFRSQLGKACQLCARHKEPGIVGGRVATQTGNPVLYYGNLVIEVAILVSNRHFGLAVVQRRKFAMEKIPGFSRSVMCKQRRLSNCYGPNPLLNKQGPMGAFHGKAMHPILDSNTVEKPHYLPAMATRKEATINTYVAKTNCRLKVFGIPIWTPRFQTRIFCHNLSLNRTRLQVMPSSRQIDNRKASLRSVSFSADSSCMVIIRIWESGPPLRKIARVMSKWTRVINMIRIRSVISYSTNRIGKPISARPFRSEKGILIKDGKESMSRASGRGAHHLDTKAEGLLGTLGMAARLQSNKLLIWKSLGASDRLFLCGCHLNLIDCDLPPRGPRAGTKTENGSERSTAPNDVFYVSSAPLSLTMVPIRGPSRKFRSTEFGPRESGVLFHAVLASEPKYLFIKHSLFGTERACRLTITKTIRFLLRTLTMVIDLEFRRIIHTCRIMC\n"
     ]
    }
   ],
   "source": [
    "# Problem 7: Translating RNA into Protein\n",
    "from trung_bftl import problem_functions as prfs\n",
    "testfile = 'test-files/rosalind_prot.txt'\n",
    "with open(testfile, 'r') as f:\n",
    "    rna = f.readline().strip()\n",
    "    print(prfs.rnaTranslate(rna))"
   ]
  },
  {
   "cell_type": "code",
   "execution_count": 1,
   "metadata": {},
   "outputs": [
    {
     "name": "stdout",
     "output_type": "stream",
     "text": [
      "24 31 93 275 361 376 393 400 407 471 488 545 590 663 697 712 774 781 808 815 857 874 891 931 938\n"
     ]
    }
   ],
   "source": [
    "# Problem 8: Finding a Motif in DNA\n",
    "from trung_bftl import problem_functions as prfs\n",
    "testfile = 'test-files/rosalind_subs.txt'\n",
    "with open(testfile, 'r') as f:\n",
    "    dna = f.readline().strip()\n",
    "    motif = f.readline().strip()\n",
    "    print(prfs.find_motif(dna, motif))"
   ]
  },
  {
   "cell_type": "code",
   "execution_count": 2,
   "metadata": {},
   "outputs": [
    {
     "name": "stdout",
     "output_type": "stream",
     "text": [
      "CCTGCCAGCATGAAAAAAGCAAGACATAGATGATTCGTACTAATGGGGTCCGAGACACAGCCAGAACAAGGAAAGGAGACGAAACCGACTAGCCCATAGTGATAACCTACGATCTTGACAAATAACGATAGTGTACATACACAGTGCACCTTGACAGATTGACGGCCCCAGACACCATACCTACCTCAGCGTCCTCAGACTGTACTTATGGGAAGGGGCAGTGACTATCAAGGAGACGTCAACTAACGAAAAGGACGTCATATCTGCGAAACTTCACAGCATCTACCTAAGTAGAAACAACTAGTACGAGTACACATCAGAGGCCGGCTTCCAAGAACACTGGCAAGAAACAAGTGCGGCGATTTAGAGATTGAACGACGGAGGAACATCGACTAATAGGAACAGGGAGCACTGCACCGGGGTGGGAGGCCTACATAACCCTGAGACAGGTCGCTATAGAAGGCTCCCAAGTTCTTCCCACGACCACGTAGGATCAGATATCAGGGACAAGTTACAAGGGTCAAAAGTCAGACAAACCGCCGATTCCGAAGGTCAAAGAGAAGTCACACTTTGCGTCGAATCAGTAGAACAGGGAGACCCTGATCCGGGAAAACGCTGAACGGAGCGCGGGCCTACTCCAGAAACCTCGGAAGGGCAAAAAAAACATACCAGACAAAAAGACAATTTGTACGTCGCTGACGAAAATAGAAGACAGGTAATATGTCGGCCGAGCACCTCTCGGATGAGAAAAAACATGATCTATTGCGCGAACCGGCGCCTAGTTAACTGCAACTACGGCCACAAACGACACAAGAGCTGACCGACAAAGATGCGTTTAGATCAATAATGTTAGGGAATAGGACTCCTCTACCCAGTCCTATTACAAGCAAGATGCGTATGGTGCGAGGTAATCCCAAGGTAGTTTTTTGAGACCGATTGCAAGAAACTGCAGTACTGGACTTGAAAAACCCAAACA\n",
      "A: 0 1 2 2 2 1 4 2 1 3 1 3 4 4 4 4 4 4 3 2 4 4 4 6 1 4 0 4 2 5 1 2 5 2 2 2 2 2 3 2 3 4 5 3 3 2 1 2 2 1 2 0 3 3 5 3 3 3 5 2 1 0 3 2 4 5 1 6 4 2 2 4 4 4 2 0 3 2 5 2 2 3 4 5 3 2 3 3 1 2 5 1 1 2 2 5 2 4 3 2 1 4 3 4 3 2 2 2 4 3 2 5 2 2 3 0 1 5 1 4 3 4 3 3 3 1 1 3 2 3 2 3 2 3 3 2 4 3 3 2 4 2 3 1 2 1 2 3 2 2 1 1 2 3 2 5 2 4 3 1 2 4 0 2 0 1 2 2 1 7 3 6 1 4 2 2 4 2 4 2 2 2 3 1 0 4 1 4 2 3 3 2 2 2 2 1 4 2 3 1 2 1 1 3 2 1 0 4 3 1 2 2 3 4 0 2 3 2 2 3 1 3 2 4 3 3 4 0 1 5 5 2 1 3 1 5 2 2 1 2 4 4 2 1 4 3 3 2 4 3 6 5 1 1 3 3 3 2 1 3 2 3 2 0 1 2 2 1 3 4 3 2 1 2 0 6 3 4 2 3 6 1 2 3 4 1 2 1 8 5 3 2 3 0 5 3 3 2 5 5 2 2 4 2 3 3 3 1 3 2 2 5 2 5 1 3 1 1 4 2 3 3 0 1 2 2 2 2 3 1 2 1 4 4 1 3 4 1 4 2 3 1 4 0 4 3 3 4 3 3 1 3 3 2 2 0 2 3 2 0 2 3 2 0 3 4 2 4 1 3 2 0 1 3 3 2 2 3 2 2 0 3 3 2 5 5 2 4 3 3 2 3 3 3 5 3 3 3 1 1 4 4 3 4 1 2 2 5 2 2 4 1 3 3 3 3 2 2 3 0 2 1 3 3 0 2 3 3 2 1 2 2 5 0 5 0 4 4 2 1 0 1 1 4 1 3 2 5 2 2 3 2 1 1 2 4 0 4 3 3 4 1 4 1 1 2 1 2 4 4 1 2 2 1 2 1 2 1 1 4 2 3 5 1 1 4 0 2 2 4 2 2 5 3 2 3 1 4 0 4 2 2 3 3 3 1 3 3 3 4 4 1 1 4 3 4 4 2 1 2 1 1 4 7 4 4 1 0 0 3 1 4 2 3 3 3 1 3 2 2 0 2 3 0 2 3 1 2 4 5 0 0 1 2 4 4 3 1 4 3 5 4 2 2 2 5 2 5 2 2 2 3 3 1 2 2 2 2 5 3 1 2 3 1 1 3 2 5 3 0 3 1 3 3 4 0 3 2 2 2 3 1 4 2 3 1 2 0 2 3 6 5 5 2 3 2 3 1 4 4 2 2 1 4 2 1 2 2 2 2 1 3 2 1 5 2 2 2 1 4 3 4 3 4 2 2 1 3 3 0 4 3 2 2 2 1 4 3 6 4 3 4 4 5 2 3 1 7 1 1 3 3 3 2 4 4 4 3 5 1 4 2 4 4 1 2 2 2 2 5 2 2 2 2 0 2 2 3 4 3 1 3 3 4 3 2 3 1 3 5 1 4 1 4 1 2 2 4 3 1 4 1 2 0 3 2 2 1 1 3 4 1 2 3 2 2 2 3 3 2 3 1 3 1 2 5 2 4 4 4 4 4 5 1 3 3 1 6 2 3 3 3 2 3 3 3 2 2 1 4 3 3 3 2 1 2 2 1 0 3 3 1 3 2 3 3 1 3 1 1 4 4 2 3 5 2 2 3 2 2 6 1 3 4 4 3 1 3 1 3 1 5 3 3 5 2 0 1 1 4 2 2 2 3 3 3 4 4 0 4 2 1 2 2 2 1 3 6 3 3 2 3 7 3 1 3 4 3 4 3 1 5 1 1 2 4 4 1 5 0 1 3 1 0 1 2 2 2 0 4 2 2 1 4 1 3 2 3 2 3 3 2 4 2 5 4 0 0 3 4 2 4 2 2 3 2 1 4 2 3 2 1 1 0 2 4 1 1 3 5 4 2 3 1 2 3 4 0 2 0 4 3 2 1 1 2 2 1 1 5 2 4 3 1 2 5 3 3 1 1 3 3 3 3 3 4 2 3 1 2 3 3 3 3 3 2 2 2 6 0 1 1 3 4 4 3 3 3 2 1 3 3 4 5 1 4\n",
      "C: 6 4 2 3 4 5 2 1 5 2 2 2 2 2 3 1 1 1 2 3 1 2 1 2 3 2 1 1 2 1 2 2 2 2 1 5 2 2 3 4 1 1 0 0 0 3 3 0 2 3 5 3 2 2 4 5 1 4 1 2 4 4 1 3 2 0 4 1 3 0 2 2 0 2 1 1 2 3 2 5 2 2 0 0 4 4 2 3 4 1 2 2 4 3 6 1 3 2 1 2 2 3 2 4 3 4 3 3 1 4 2 3 1 3 2 3 2 1 5 3 3 2 2 1 1 4 3 1 1 2 2 0 2 1 1 4 3 1 3 3 1 4 2 1 2 2 4 2 3 4 3 2 2 3 5 1 3 3 2 2 3 2 5 2 2 4 3 4 3 0 0 1 4 2 4 3 0 2 1 5 4 2 3 3 4 0 5 1 2 4 2 1 4 3 2 5 2 2 2 4 1 2 3 3 5 2 3 3 1 2 2 2 2 1 3 3 0 2 3 2 1 2 0 2 4 2 1 1 4 3 2 3 2 2 3 1 3 2 3 3 2 1 4 3 1 2 5 1 2 3 0 3 3 2 2 4 1 2 3 3 2 3 2 5 2 3 4 1 3 3 2 3 3 2 4 2 5 0 2 4 0 3 4 1 3 6 4 2 0 2 1 2 3 2 0 1 2 3 1 1 4 3 2 1 1 2 4 2 2 1 2 3 3 4 3 3 3 5 1 1 3 2 3 4 3 1 1 3 1 2 5 4 1 4 3 2 2 3 2 5 1 1 0 7 1 2 1 3 2 3 4 3 3 2 3 1 4 2 1 5 2 3 1 2 0 4 2 1 1 3 2 1 3 2 2 4 2 3 3 0 2 2 2 2 0 2 4 2 2 4 3 3 5 1 0 2 2 3 1 1 1 2 4 1 2 2 1 1 2 3 1 4 2 1 4 2 4 4 1 2 1 3 2 2 2 2 3 2 2 5 4 2 2 4 3 1 4 3 5 4 5 2 1 2 1 3 5 0 2 2 2 3 3 3 1 1 2 0 1 2 0 2 0 3 1 3 3 4 3 0 1 0 1 3 3 0 3 5 3 3 3 2 2 3 3 3 4 2 2 1 1 2 0 0 4 2 3 1 3 1 2 4 3 3 1 3 3 4 1 2 1 2 2 2 5 3 2 2 3 2 2 4 1 2 2 2 2 2 5 3 2 1 3 3 1 2 4 4 2 4 4 1 2 2 1 4 6 2 2 2 1 4 2 4 2 3 2 2 4 1 1 4 0 3 5 3 4 3 4 1 2 1 0 3 2 2 4 2 2 3 1 3 2 3 2 1 1 1 1 4 3 1 0 2 2 1 1 4 4 3 2 1 3 2 4 3 2 3 2 2 3 2 2 3 2 5 1 0 0 4 3 2 3 0 2 5 2 5 2 0 2 4 4 1 2 5 1 3 5 0 2 2 2 2 5 4 1 4 3 3 2 3 0 2 2 4 4 3 1 1 1 3 2 1 4 2 2 1 4 6 3 1 3 5 2 1 3 3 2 3 3 3 2 3 4 1 1 2 1 3 5 2 1 4 1 4 1 2 1 4 2 2 2 2 2 3 3 2 3 4 2 2 5 4 1 1 2 2 1 1 4 1 1 3 5 3 2 5 3 3 2 1 3 3 4 3 1 4 1 3 2 2 3 3 2 0 1 3 2 3 2 0 1 4 1 1 1 2 3 4 1 2 3 0 0 4 1 3 2 3 3 4 5 1 2 4 1 4 4 1 3 2 1 1 3 2 6 1 3 4 3 3 5 2 2 5 2 1 4 6 1 4 3 1 4 4 2 1 5 2 5 2 2 1 2 2 6 2 2 1 3 3 2 3 4 1 0 2 3 2 2 2 3 2 1 3 2 0 1 3 1 4 2 3 2 2 2 2 1 1 2 1 1 1 0 2 1 2 2 2 1 2 5 3 4 4 2 3 3 3 4 4 5 3 3 3 4 4 2 2 1 2 4 5 2 1 3 4 2 2 2 1 2 1 5 2 2 2 2 1 3 1 2 4 3 3 2 2 0 1 4 0 4 4 3 2 1 0 1 2 1 2 1 3 3 2 3 2 1 1 2 3 4 4 3 1 3 0 1 4 2 3 2 2 3 1 5 0 1 3 3 0 1 2 4 2 1 1 1 4 2 2 2 1 2 1 1 3 3 4 4 1 2 1 4 4\n",
      "G: 3 2 2 4 4 3 3 6 2 2 3 4 4 2 1 2 1 3 5 2 3 1 5 0 3 1 1 2 3 1 2 3 2 2 2 2 3 1 2 2 2 3 2 3 5 4 4 4 2 3 0 4 2 4 1 1 3 3 2 3 4 3 3 4 2 2 3 1 2 4 3 2 2 2 4 5 3 4 2 1 3 3 4 3 0 3 4 2 3 3 3 5 3 2 2 3 1 2 5 2 6 2 1 1 1 4 2 1 1 1 3 1 3 3 1 3 4 3 2 0 2 2 1 3 3 2 4 3 3 2 5 3 3 2 3 2 0 2 2 3 4 3 2 6 1 4 2 2 3 2 2 1 4 1 3 1 5 2 1 1 4 1 4 4 5 3 3 1 3 2 6 1 3 2 0 2 3 2 3 2 2 2 2 3 3 1 3 3 5 1 4 2 3 2 2 2 1 4 2 3 3 5 2 1 2 3 3 2 2 5 4 5 3 2 5 4 4 3 3 3 5 1 5 4 2 1 4 1 2 1 2 4 6 3 4 3 3 3 2 3 1 3 3 1 3 2 2 4 1 1 1 0 4 4 3 1 4 2 3 2 1 2 1 0 2 4 1 4 3 1 3 2 1 2 2 1 1 3 4 0 2 1 1 1 2 2 1 2 1 2 4 2 3 4 3 3 3 3 1 1 2 0 2 4 2 2 3 4 2 5 2 1 3 1 3 3 1 2 3 6 2 4 5 4 2 6 6 3 2 2 2 4 3 1 5 3 3 3 2 1 2 6 5 3 4 2 5 0 3 2 2 2 2 5 1 5 3 5 5 2 3 2 2 3 1 1 3 2 5 2 1 3 5 3 3 1 5 2 2 6 5 3 5 3 3 0 3 2 0 0 4 3 2 2 2 2 1 2 4 5 4 3 2 4 4 4 4 1 3 3 2 1 1 6 3 3 1 2 4 4 4 4 1 4 5 3 2 5 3 1 3 1 2 3 1 4 1 0 2 4 2 1 5 1 7 2 1 3 4 4 1 3 4 3 2 3 3 4 4 3 4 5 5 3 3 3 3 1 1 4 5 3 0 3 1 4 2 0 3 1 3 4 3 3 3 0 3 4 2 2 4 3 2 2 3 3 5 3 3 2 1 1 1 4 5 4 1 1 3 2 5 3 2 1 2 1 2 3 5 5 3 3 4 1 2 2 5 2 3 3 5 3 2 1 3 2 2 1 3 4 4 6 3 3 3 2 1 5 1 0 7 5 3 3 1 3 3 4 2 4 2 1 4 1 2 1 3 2 1 3 0 2 5 3 4 1 2 4 1 2 3 3 3 5 3 3 4 0 3 2 2 6 5 4 1 8 3 1 2 3 1 4 1 2 1 3 4 4 3 3 1 2 2 2 4 0 2 6 4 0 2 3 4 4 3 3 3 2 4 7 4 1 2 2 3 2 1 3 3 4 4 1 3 2 3 4 2 2 4 5 2 1 4 4 3 4 0 3 2 3 3 3 4 2 3 2 2 1 3 1 1 4 1 1 2 1 1 3 2 4 1 2 3 2 0 2 2 5 1 0 0 4 1 1 8 4 3 4 2 1 4 2 2 2 2 1 2 5 3 1 5 2 1 0 7 4 1 1 3 2 1 3 6 3 1 4 3 2 3 4 1 6 3 1 2 2 1 2 1 3 4 4 2 1 3 0 4 1 3 2 1 3 3 3 3 2 4 2 1 2 2 2 1 2 6 1 4 2 4 2 3 2 0 4 4 2 4 2 2 1 1 5 2 3 1 3 0 2 4 3 2 1 1 1 1 3 3 5 2 2 2 3 3 2 2 2 5 3 2 3 2 2 2 4 1 3 3 1 4 4 2 3 4 2 0 3 3 2 4 3 2 6 3 3 2 2 1 3 4 1 3 3 1 1 1 2 2 1 5 2 2 2 4 4 4 2 4 3 2 5 4 2 1 3 4 4 2 2 2 2 2 1 1 3 4 0 2 2 0 3 2 1 0 0 2 3 6 2 3 2 5 4 1 4 0 5 1 2 2 6 5 1 4 3 4 2 6 4 1 3 2 3 1 3 3 2 2 7 4 2 3 5 2 1 2 1 1 3 5 2 5 1 1 2 4 2 0 3 5 3 2 1 4 3 3 1 2 2 4 2 1 5 2 2 1 1 4 5 3 4 3 3 4 2 3 3 3 2 2 3 1 3 2 4 4 1\n",
      "T: 1 3 4 1 0 1 1 1 2 3 4 1 0 2 2 3 4 2 0 3 2 3 0 2 3 3 8 3 3 3 5 3 1 4 5 1 3 5 2 2 4 2 3 4 2 1 2 4 4 3 3 3 3 1 0 1 3 0 2 3 1 3 3 1 2 3 2 2 1 4 3 2 4 2 3 4 2 1 1 2 3 2 2 2 3 1 1 2 2 4 0 2 2 3 0 1 4 2 1 4 1 1 4 1 3 0 3 4 4 2 3 1 4 2 4 4 3 1 2 3 2 2 4 3 3 3 2 3 4 3 1 4 3 4 3 2 3 4 2 2 1 1 3 2 5 3 2 3 2 2 4 6 2 3 0 3 0 1 4 6 1 3 1 2 3 2 2 3 3 1 1 2 2 2 4 3 3 4 2 1 2 4 2 3 3 5 1 2 1 2 1 5 1 3 4 2 3 2 3 2 4 2 4 3 1 4 4 1 4 2 2 1 2 3 2 1 3 3 2 2 3 4 3 0 1 4 1 8 3 1 1 1 1 2 2 1 2 3 4 2 3 2 1 5 2 3 0 3 3 3 3 2 2 3 2 2 2 4 3 2 5 2 5 5 5 1 3 4 1 2 2 3 5 4 4 1 1 3 2 3 2 5 3 5 1 1 3 5 1 1 2 4 1 4 2 3 2 2 3 3 2 5 2 3 4 3 0 3 3 2 4 1 2 0 3 1 5 2 2 1 2 1 2 1 3 1 1 2 4 5 1 1 2 1 1 2 1 3 2 2 4 2 1 0 1 3 1 3 2 2 3 2 2 1 4 4 1 0 2 3 3 2 5 5 6 1 3 3 3 2 5 6 1 2 2 3 1 2 3 2 3 2 0 3 2 3 1 2 5 3 1 1 0 4 3 3 4 2 4 3 1 1 1 1 3 2 3 3 3 2 3 4 4 0 0 2 3 2 2 4 3 2 4 1 3 3 2 0 3 3 1 5 1 3 1 5 1 3 1 1 3 6 3 3 1 2 2 2 2 2 4 2 2 3 5 2 5 2 2 2 2 2 1 3 5 2 3 3 2 2 3 5 7 3 4 5 3 4 3 2 2 1 0 3 3 3 3 2 4 3 3 3 3 5 1 2 1 2 4 3 5 3 3 0 1 2 3 2 3 2 0 4 5 3 0 2 2 3 1 1 4 2 1 0 2 2 2 6 2 1 2 2 3 3 3 3 3 2 3 0 2 1 2 5 4 1 2 1 3 3 2 1 4 1 3 0 2 3 0 2 2 1 4 4 1 1 1 0 3 4 6 4 2 3 2 5 2 2 2 2 5 2 2 1 4 3 3 4 3 4 2 2 2 1 3 1 3 3 2 2 4 4 2 4 2 3 2 3 3 2 0 1 1 3 1 3 4 3 2 2 3 3 2 2 3 1 3 1 2 1 3 2 2 6 0 1 6 2 1 2 1 3 2 2 0 0 6 1 0 2 2 3 4 2 3 1 2 1 1 2 3 0 0 2 1 3 5 1 2 2 3 2 3 2 2 4 2 1 1 2 2 3 1 1 5 5 5 1 6 2 3 2 6 3 1 0 4 1 3 2 3 3 3 2 3 4 2 2 1 0 2 2 3 2 1 3 5 3 3 6 1 5 1 4 1 1 3 2 3 0 3 2 2 3 2 3 6 1 5 2 1 3 2 5 3 5 3 2 1 1 3 3 1 2 3 4 4 0 4 1 4 3 4 5 1 2 3 3 3 1 1 1 2 3 3 2 3 3 4 5 3 2 4 4 3 2 3 4 2 2 1 2 2 4 2 0 3 1 2 0 1 2 1 3 0 1 2 3 2 2 2 1 3 2 2 3 1 6 3 1 3 2 2 2 3 3 3 2 3 1 4 1 2 3 5 4 4 1 2 3 4 0 0 3 6 3 2 4 0 4 5 2 4 4 4 2 1 4 1 3 4 3 3 4 1 0 4 3 5 1 2 3 3 0 2 4 2 1 6 2 4 5 2 3 1 2 1 4 2 2 1 1 5 3 2 1 6 2 4 0 0 7 3 3 1 1 1 3 6 1 0 5 2 2 2 3 3 3 3 6 2 0 5 5 4 5 4 4 3 2 1 2 2 3 1 2 4 4 3 2 3 3 1 2 1 4 1 5 4 3 3 2 4 3 2 5 3 2 0 2 4 4 1 3 1 3 3 2 3 2 2 3 2 0 1 1\n",
      "\n"
     ]
    }
   ],
   "source": [
    "# Problem 9: Consensus and Profile\n",
    "## Remember to load the BioPython module to read the FASTA file\n",
    "from trung_bftl import problem_functions as prfs\n",
    "from Bio import SeqIO\n",
    "testfile = 'test-files/rosalind_cons.txt'\n",
    "with open(testfile, 'r') as f:\n",
    "    records = SeqIO.parse(f, 'fasta')\n",
    "    # make all the records into a list of sequences\n",
    "    records_seq_list = [str(record.seq) for record in records]\n",
    "    print(prfs.consensus_profile(records_seq_list)[0])\n",
    "    print(prfs.consensus_profile(records_seq_list)[2])"
   ]
  },
  {
   "cell_type": "code",
   "execution_count": 2,
   "metadata": {},
   "outputs": [
    {
     "name": "stdout",
     "output_type": "stream",
     "text": [
      "259182962981517626\n"
     ]
    }
   ],
   "source": [
    "# Problem 10: Mortal Fibonacci Rabbits\n",
    "from trung_bftl import problem_functions as prfs\n",
    "testfile = 'test-files/rosalind_fibd.txt'\n",
    "with open(testfile, 'r') as f:\n",
    "    n, m = map(int, f.readline().strip().split())\n",
    "    print(prfs.mortal_fibonacci(n, m))"
   ]
  },
  {
   "cell_type": "code",
   "execution_count": 3,
   "metadata": {},
   "outputs": [
    {
     "name": "stdout",
     "output_type": "stream",
     "text": [
      "Rosalind_0594\n",
      "52.074236\n"
     ]
    }
   ],
   "source": [
    "# Problem 11: Computing GC Content\n",
    "from trung_bftl import problem_functions as prfs\n",
    "from Bio import SeqIO\n",
    "\n",
    "testfile = 'test-files/rosalind_gc.txt'\n",
    "id_gc_dict = {}\n",
    "with open(testfile, 'r') as f:\n",
    "    records = SeqIO.parse(f, 'fasta')\n",
    "    for record in records:\n",
    "        gc_content = prfs.gc_content(record.seq)\n",
    "        id_gc_dict[record.id] = gc_content\n",
    "max_gc_id = max(id_gc_dict, key=id_gc_dict.get)\n",
    "print(f'{max_gc_id}\\n{id_gc_dict[max_gc_id]}')\n",
    "        "
   ]
  },
  {
   "cell_type": "code",
   "execution_count": 2,
   "metadata": {},
   "outputs": [
    {
     "name": "stdout",
     "output_type": "stream",
     "text": [
      "150536.5\n"
     ]
    }
   ],
   "source": [
    "# Problem 12: Calculating Expected Offspring\n",
    "from trung_bftl import problem_functions as prfs\n",
    "testfile = 'test-files/rosalind_iev.txt'\n",
    "with open(testfile, 'r') as f:\n",
    "    offspring = list(map(int, f.readline().strip().split()))\n",
    "    print(prfs.expected_offspring(offspring))"
   ]
  },
  {
   "cell_type": "code",
   "execution_count": 3,
   "metadata": {},
   "outputs": [
    {
     "name": "stdout",
     "output_type": "stream",
     "text": [
      "GCGCGAATACCTTTCTTCTCTTCGCACGAAGCTAACCAATGGGGATGCTTATGGCGAGCAATCGTAATACACAGAGCTGAGGAGGTCCCCATGAGTCGTTCTTGCGGACGTTCGCAGCACGTTAATCTAACTGGTTCCACCCATTTAGACATTGGCACCCGCTACCAATTCTGACTGGTAGTGTCCTCATGCAGGC\n"
     ]
    }
   ],
   "source": [
    "# Problem 13: Finding a Shared Motif\n",
    "from trung_bftl import problem_functions as prfs\n",
    "from Bio import SeqIO\n",
    "\n",
    "testfile = 'test-files/rosalind_lcsm.txt'\n",
    "with open(testfile, 'r') as f:\n",
    "    records = SeqIO.parse(f, 'fasta')\n",
    "    records_seq_list = [str(record.seq) for record in records]\n",
    "    print(prfs.find_shared_motif(records_seq_list))\n"
   ]
  },
  {
   "cell_type": "code",
   "execution_count": 1,
   "metadata": {},
   "outputs": [
    {
     "name": "stdout",
     "output_type": "stream",
     "text": [
      "0.534\n"
     ]
    }
   ],
   "source": [
    "# Problem 14: Independent Alleles\n",
    "from trung_bftl import problem_functions as prfs\n",
    "testfile = 'test-files/rosalind_lia.txt'\n",
    "with open(testfile, 'r') as f:\n",
    "    k, n = map(int, f.readline().strip().split())\n",
    "    print(prfs.independent_alleles(k, n))"
   ]
  },
  {
   "cell_type": "code",
   "execution_count": 2,
   "metadata": {},
   "outputs": [
    {
     "name": "stdout",
     "output_type": "stream",
     "text": [
      "P12763_A2HS_BOVIN\n",
      "99 156 176\n",
      "Q0IBF4\n",
      "136\n",
      "A5F5B4\n",
      "68\n",
      "P36912_EBA2_FLAME\n",
      "5 48 236 278\n",
      "O14977\n",
      "9\n",
      "P01045_KNH2_BOVIN\n",
      "47 87 168 169 197 204 280\n",
      "Q68J42\n",
      "198 243\n",
      "P01217_GLHA_BOVIN\n",
      "80 106\n",
      "P19246_NFH_MOUSE\n",
      "120\n",
      "O08537_ESR2_MOUSE\n",
      "17 55 407\n",
      "P01189_COLI_HUMAN\n",
      "91\n",
      "P29460_I12B_HUMAN\n",
      "125 135 222 303\n"
     ]
    }
   ],
   "source": [
    "# Problem 15: Finding a Protein Motif\n",
    "from trung_bftl import problem_functions as prfs\n",
    "import requests\n",
    "\n",
    "testfile = 'test-files/rosalind_mprt.txt'\n",
    "with open(testfile, 'r') as f:\n",
    "    protein_ids = f.readlines()\n",
    "    protein_ids = [id.strip() for id in protein_ids]\n",
    "    for protein_id in protein_ids:\n",
    "        corrected_protein_id = protein_id.split('_')[0]\n",
    "        url = f'https://www.uniprot.org/uniprot/{corrected_protein_id}.fasta'\n",
    "       # if url returns 404, print out an warning message and continue to the next protein\n",
    "        try:\n",
    "            response = requests.get(url)\n",
    "            response.raise_for_status()\n",
    "        except requests.exceptions.HTTPError as e:\n",
    "            print(f'Protein {protein_id} not found')\n",
    "            continue\n",
    "        fasta = response.text\n",
    "        protein_seq = fasta.split('\\n', 1)[1].replace('\\n', '')\n",
    "        motif_positions = prfs.find_protein_motif(protein_seq)\n",
    "        if motif_positions:\n",
    "            print(protein_id)\n",
    "            print(' '.join(map(str, motif_positions)))\n",
    "## Warning, some old ID of Uniprot has been merged (such as P01046 has been merged into P01044).\n",
    "## But automatically been redirected, so the script still works."
   ]
  }
 ],
 "metadata": {
  "language_info": {
   "name": "python"
  }
 },
 "nbformat": 4,
 "nbformat_minor": 2
}
